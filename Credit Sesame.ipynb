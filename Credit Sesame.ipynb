{
 "cells": [
  {
   "cell_type": "code",
   "execution_count": 1,
   "id": "cd44867f",
   "metadata": {},
   "outputs": [],
   "source": [
    "import numpy as np\n",
    "import pandas as pd\n",
    "import seaborn as sns\n",
    "import matplotlib.pyplot as plt\n",
    "%matplotlib inline"
   ]
  },
  {
   "cell_type": "markdown",
   "id": "f8aa4baf",
   "metadata": {},
   "source": [
    "## Overview\n",
    "- In this notebook, we would like to build a predictive model to predict the likelihood of default which is a binary variable.\n",
    "- First, we will check the validity of the dataset, which involves checking missing values, overall statistics of the dataset, categorical and numerical variables distribution.\n",
    "- Then exploratory analysis will be performed, for example, correlation matrix for numeric variables to check if there exists multicollinearity,use tabulation to measure relationship between two categorical variables, etc.\n",
    "- Restructure data to standard tabular format, select candidate models for classification\n",
    "- Decide which evaluation metrics to use, choose the model that has the best performance, only performed two model construction, but there is space to build more/tune further."
   ]
  },
  {
   "cell_type": "code",
   "execution_count": 2,
   "id": "36ea639f",
   "metadata": {},
   "outputs": [],
   "source": [
    "from xgboost import XGBClassifier\n",
    "from sklearn.model_selection import train_test_split\n",
    "from sklearn.model_selection import KFold\n",
    "from sklearn.metrics import roc_auc_score\n",
    "from sklearn.ensemble import RandomForestClassifier"
   ]
  },
  {
   "cell_type": "markdown",
   "id": "76c51e04",
   "metadata": {},
   "source": [
    "Build a model to predict the likelihood of default, a model which can generalize to\n",
    "other data points. The column to be predicted is `default payment next month`.\n",
    "\n",
    "\n",
    "Put your code in a Jupyter notebook. Be sure to generously intersperse Markdown cells\n",
    "in your notebook, in order to explain the steps you are taking and any assumptions you\n",
    "are making (in words). Breaking down the larger task into smaller, more concrete steps\n",
    "is just as important to us as your final trained model and performance metrics, as it\n",
    "reveals your thought process!\n",
    "For any functions that you write, please include clear and fleshed out docstrings. Also,\n",
    "please attempt to adhere to PEP-8 code formatting standards throughout your\n",
    "notebook.\n",
    "There is no need to make slides to accompany your notebook. If you’re invited to a\n",
    "virtual onsite, we’ll ask you to walk us through your modeling exercise, and you can\n",
    "present your work directly from your notebook. (In this case -- but not in others -- your\n",
    "audience will be sufficiently code-savvy to respond well to this form of presentation.)\n",
    "If you have any questions about this exercise, feel free to ask. But we encourage you to\n",
    "try answering them yourself. **How you choose to interpret this task gives us additional\n",
    "insight into your thinking. Also, you’ll notice that for a few of the columns in the dataset,\n",
    "some commonly occurring values lack definitions in the documentation; we are\n",
    "interested in seeing how you deal with this incompleteness of information.\n",
    "Finally, once you have trained your model, please think of ways its predictions can be\n",
    "used in Credit Sesame’s product. Be prepared to have a conversation about your\n",
    "envisioned use cases.**"
   ]
  },
  {
   "cell_type": "markdown",
   "id": "29a28693",
   "metadata": {},
   "source": [
    "## Load Data\n",
    "- https://archive-beta.ics.uci.edu/dataset/350/default+of+credit+card+clients\n",
    "- We skipped the first row since it is a redundant row for column names"
   ]
  },
  {
   "cell_type": "code",
   "execution_count": 3,
   "id": "360a95d8",
   "metadata": {},
   "outputs": [],
   "source": [
    "data = pd.read_excel(\"default of credit card clients.xls\",skiprows=1)"
   ]
  },
  {
   "cell_type": "code",
   "execution_count": 4,
   "id": "b058dd89",
   "metadata": {},
   "outputs": [
    {
     "data": {
      "text/html": [
       "<div>\n",
       "<style scoped>\n",
       "    .dataframe tbody tr th:only-of-type {\n",
       "        vertical-align: middle;\n",
       "    }\n",
       "\n",
       "    .dataframe tbody tr th {\n",
       "        vertical-align: top;\n",
       "    }\n",
       "\n",
       "    .dataframe thead th {\n",
       "        text-align: right;\n",
       "    }\n",
       "</style>\n",
       "<table border=\"1\" class=\"dataframe\">\n",
       "  <thead>\n",
       "    <tr style=\"text-align: right;\">\n",
       "      <th></th>\n",
       "      <th>ID</th>\n",
       "      <th>LIMIT_BAL</th>\n",
       "      <th>SEX</th>\n",
       "      <th>EDUCATION</th>\n",
       "      <th>MARRIAGE</th>\n",
       "      <th>AGE</th>\n",
       "      <th>PAY_0</th>\n",
       "      <th>PAY_2</th>\n",
       "      <th>PAY_3</th>\n",
       "      <th>PAY_4</th>\n",
       "      <th>...</th>\n",
       "      <th>BILL_AMT4</th>\n",
       "      <th>BILL_AMT5</th>\n",
       "      <th>BILL_AMT6</th>\n",
       "      <th>PAY_AMT1</th>\n",
       "      <th>PAY_AMT2</th>\n",
       "      <th>PAY_AMT3</th>\n",
       "      <th>PAY_AMT4</th>\n",
       "      <th>PAY_AMT5</th>\n",
       "      <th>PAY_AMT6</th>\n",
       "      <th>default payment next month</th>\n",
       "    </tr>\n",
       "  </thead>\n",
       "  <tbody>\n",
       "    <tr>\n",
       "      <th>0</th>\n",
       "      <td>1</td>\n",
       "      <td>20000</td>\n",
       "      <td>2</td>\n",
       "      <td>2</td>\n",
       "      <td>1</td>\n",
       "      <td>24</td>\n",
       "      <td>2</td>\n",
       "      <td>2</td>\n",
       "      <td>-1</td>\n",
       "      <td>-1</td>\n",
       "      <td>...</td>\n",
       "      <td>0</td>\n",
       "      <td>0</td>\n",
       "      <td>0</td>\n",
       "      <td>0</td>\n",
       "      <td>689</td>\n",
       "      <td>0</td>\n",
       "      <td>0</td>\n",
       "      <td>0</td>\n",
       "      <td>0</td>\n",
       "      <td>1</td>\n",
       "    </tr>\n",
       "    <tr>\n",
       "      <th>1</th>\n",
       "      <td>2</td>\n",
       "      <td>120000</td>\n",
       "      <td>2</td>\n",
       "      <td>2</td>\n",
       "      <td>2</td>\n",
       "      <td>26</td>\n",
       "      <td>-1</td>\n",
       "      <td>2</td>\n",
       "      <td>0</td>\n",
       "      <td>0</td>\n",
       "      <td>...</td>\n",
       "      <td>3272</td>\n",
       "      <td>3455</td>\n",
       "      <td>3261</td>\n",
       "      <td>0</td>\n",
       "      <td>1000</td>\n",
       "      <td>1000</td>\n",
       "      <td>1000</td>\n",
       "      <td>0</td>\n",
       "      <td>2000</td>\n",
       "      <td>1</td>\n",
       "    </tr>\n",
       "    <tr>\n",
       "      <th>2</th>\n",
       "      <td>3</td>\n",
       "      <td>90000</td>\n",
       "      <td>2</td>\n",
       "      <td>2</td>\n",
       "      <td>2</td>\n",
       "      <td>34</td>\n",
       "      <td>0</td>\n",
       "      <td>0</td>\n",
       "      <td>0</td>\n",
       "      <td>0</td>\n",
       "      <td>...</td>\n",
       "      <td>14331</td>\n",
       "      <td>14948</td>\n",
       "      <td>15549</td>\n",
       "      <td>1518</td>\n",
       "      <td>1500</td>\n",
       "      <td>1000</td>\n",
       "      <td>1000</td>\n",
       "      <td>1000</td>\n",
       "      <td>5000</td>\n",
       "      <td>0</td>\n",
       "    </tr>\n",
       "    <tr>\n",
       "      <th>3</th>\n",
       "      <td>4</td>\n",
       "      <td>50000</td>\n",
       "      <td>2</td>\n",
       "      <td>2</td>\n",
       "      <td>1</td>\n",
       "      <td>37</td>\n",
       "      <td>0</td>\n",
       "      <td>0</td>\n",
       "      <td>0</td>\n",
       "      <td>0</td>\n",
       "      <td>...</td>\n",
       "      <td>28314</td>\n",
       "      <td>28959</td>\n",
       "      <td>29547</td>\n",
       "      <td>2000</td>\n",
       "      <td>2019</td>\n",
       "      <td>1200</td>\n",
       "      <td>1100</td>\n",
       "      <td>1069</td>\n",
       "      <td>1000</td>\n",
       "      <td>0</td>\n",
       "    </tr>\n",
       "    <tr>\n",
       "      <th>4</th>\n",
       "      <td>5</td>\n",
       "      <td>50000</td>\n",
       "      <td>1</td>\n",
       "      <td>2</td>\n",
       "      <td>1</td>\n",
       "      <td>57</td>\n",
       "      <td>-1</td>\n",
       "      <td>0</td>\n",
       "      <td>-1</td>\n",
       "      <td>0</td>\n",
       "      <td>...</td>\n",
       "      <td>20940</td>\n",
       "      <td>19146</td>\n",
       "      <td>19131</td>\n",
       "      <td>2000</td>\n",
       "      <td>36681</td>\n",
       "      <td>10000</td>\n",
       "      <td>9000</td>\n",
       "      <td>689</td>\n",
       "      <td>679</td>\n",
       "      <td>0</td>\n",
       "    </tr>\n",
       "  </tbody>\n",
       "</table>\n",
       "<p>5 rows × 25 columns</p>\n",
       "</div>"
      ],
      "text/plain": [
       "   ID  LIMIT_BAL  SEX  EDUCATION  MARRIAGE  AGE  PAY_0  PAY_2  PAY_3  PAY_4  \\\n",
       "0   1      20000    2          2         1   24      2      2     -1     -1   \n",
       "1   2     120000    2          2         2   26     -1      2      0      0   \n",
       "2   3      90000    2          2         2   34      0      0      0      0   \n",
       "3   4      50000    2          2         1   37      0      0      0      0   \n",
       "4   5      50000    1          2         1   57     -1      0     -1      0   \n",
       "\n",
       "   ...  BILL_AMT4  BILL_AMT5  BILL_AMT6  PAY_AMT1  PAY_AMT2  PAY_AMT3  \\\n",
       "0  ...          0          0          0         0       689         0   \n",
       "1  ...       3272       3455       3261         0      1000      1000   \n",
       "2  ...      14331      14948      15549      1518      1500      1000   \n",
       "3  ...      28314      28959      29547      2000      2019      1200   \n",
       "4  ...      20940      19146      19131      2000     36681     10000   \n",
       "\n",
       "   PAY_AMT4  PAY_AMT5  PAY_AMT6  default payment next month  \n",
       "0         0         0         0                           1  \n",
       "1      1000         0      2000                           1  \n",
       "2      1000      1000      5000                           0  \n",
       "3      1100      1069      1000                           0  \n",
       "4      9000       689       679                           0  \n",
       "\n",
       "[5 rows x 25 columns]"
      ]
     },
     "execution_count": 4,
     "metadata": {},
     "output_type": "execute_result"
    }
   ],
   "source": [
    "data.head()"
   ]
  },
  {
   "cell_type": "code",
   "execution_count": 5,
   "id": "76e48c1e",
   "metadata": {},
   "outputs": [
    {
     "data": {
      "text/plain": [
       "(30000, 25)"
      ]
     },
     "execution_count": 5,
     "metadata": {},
     "output_type": "execute_result"
    }
   ],
   "source": [
    "data.shape"
   ]
  },
  {
   "cell_type": "code",
   "execution_count": 6,
   "id": "a1bee057",
   "metadata": {},
   "outputs": [
    {
     "data": {
      "text/plain": [
       "ID                            0.0\n",
       "LIMIT_BAL                     0.0\n",
       "SEX                           0.0\n",
       "EDUCATION                     0.0\n",
       "MARRIAGE                      0.0\n",
       "AGE                           0.0\n",
       "PAY_0                         0.0\n",
       "PAY_2                         0.0\n",
       "PAY_3                         0.0\n",
       "PAY_4                         0.0\n",
       "PAY_5                         0.0\n",
       "PAY_6                         0.0\n",
       "BILL_AMT1                     0.0\n",
       "BILL_AMT2                     0.0\n",
       "BILL_AMT3                     0.0\n",
       "BILL_AMT4                     0.0\n",
       "BILL_AMT5                     0.0\n",
       "BILL_AMT6                     0.0\n",
       "PAY_AMT1                      0.0\n",
       "PAY_AMT2                      0.0\n",
       "PAY_AMT3                      0.0\n",
       "PAY_AMT4                      0.0\n",
       "PAY_AMT5                      0.0\n",
       "PAY_AMT6                      0.0\n",
       "default payment next month    0.0\n",
       "dtype: float64"
      ]
     },
     "execution_count": 6,
     "metadata": {},
     "output_type": "execute_result"
    }
   ],
   "source": [
    "#no missing values for this dataset\n",
    "data.isnull().mean()"
   ]
  },
  {
   "cell_type": "markdown",
   "id": "5c82435e",
   "metadata": {},
   "source": [
    "#### check categorical variables"
   ]
  },
  {
   "cell_type": "code",
   "execution_count": 7,
   "id": "3a9d94eb",
   "metadata": {},
   "outputs": [
    {
     "data": {
      "text/html": [
       "<div>\n",
       "<style scoped>\n",
       "    .dataframe tbody tr th:only-of-type {\n",
       "        vertical-align: middle;\n",
       "    }\n",
       "\n",
       "    .dataframe tbody tr th {\n",
       "        vertical-align: top;\n",
       "    }\n",
       "\n",
       "    .dataframe thead th {\n",
       "        text-align: right;\n",
       "    }\n",
       "</style>\n",
       "<table border=\"1\" class=\"dataframe\">\n",
       "  <thead>\n",
       "    <tr style=\"text-align: right;\">\n",
       "      <th></th>\n",
       "      <th>SEX</th>\n",
       "      <th>EDUCATION</th>\n",
       "      <th>MARRIAGE</th>\n",
       "    </tr>\n",
       "  </thead>\n",
       "  <tbody>\n",
       "    <tr>\n",
       "      <th>count</th>\n",
       "      <td>30000.000000</td>\n",
       "      <td>30000.000000</td>\n",
       "      <td>30000.000000</td>\n",
       "    </tr>\n",
       "    <tr>\n",
       "      <th>mean</th>\n",
       "      <td>1.603733</td>\n",
       "      <td>1.853133</td>\n",
       "      <td>1.551867</td>\n",
       "    </tr>\n",
       "    <tr>\n",
       "      <th>std</th>\n",
       "      <td>0.489129</td>\n",
       "      <td>0.790349</td>\n",
       "      <td>0.521970</td>\n",
       "    </tr>\n",
       "    <tr>\n",
       "      <th>min</th>\n",
       "      <td>1.000000</td>\n",
       "      <td>0.000000</td>\n",
       "      <td>0.000000</td>\n",
       "    </tr>\n",
       "    <tr>\n",
       "      <th>25%</th>\n",
       "      <td>1.000000</td>\n",
       "      <td>1.000000</td>\n",
       "      <td>1.000000</td>\n",
       "    </tr>\n",
       "    <tr>\n",
       "      <th>50%</th>\n",
       "      <td>2.000000</td>\n",
       "      <td>2.000000</td>\n",
       "      <td>2.000000</td>\n",
       "    </tr>\n",
       "    <tr>\n",
       "      <th>75%</th>\n",
       "      <td>2.000000</td>\n",
       "      <td>2.000000</td>\n",
       "      <td>2.000000</td>\n",
       "    </tr>\n",
       "    <tr>\n",
       "      <th>max</th>\n",
       "      <td>2.000000</td>\n",
       "      <td>6.000000</td>\n",
       "      <td>3.000000</td>\n",
       "    </tr>\n",
       "  </tbody>\n",
       "</table>\n",
       "</div>"
      ],
      "text/plain": [
       "                SEX     EDUCATION      MARRIAGE\n",
       "count  30000.000000  30000.000000  30000.000000\n",
       "mean       1.603733      1.853133      1.551867\n",
       "std        0.489129      0.790349      0.521970\n",
       "min        1.000000      0.000000      0.000000\n",
       "25%        1.000000      1.000000      1.000000\n",
       "50%        2.000000      2.000000      2.000000\n",
       "75%        2.000000      2.000000      2.000000\n",
       "max        2.000000      6.000000      3.000000"
      ]
     },
     "execution_count": 7,
     "metadata": {},
     "output_type": "execute_result"
    }
   ],
   "source": [
    "data[['SEX', 'EDUCATION', 'MARRIAGE']].describe()"
   ]
  },
  {
   "cell_type": "markdown",
   "id": "3bd7e005",
   "metadata": {},
   "source": [
    "From the data description, we know that education usually take values 1-4, however we observed some 0, 5 and 6 in the dataset. Since 5, 6 both represent unknown and 0 is uncategorized, let's combine them together as 4 \"others\", we assume that 0, 5, 6 should have similar characters as 4."
   ]
  },
  {
   "cell_type": "code",
   "execution_count": 8,
   "id": "686db2df",
   "metadata": {},
   "outputs": [
    {
     "data": {
      "text/plain": [
       "2    14030\n",
       "1    10585\n",
       "3     4917\n",
       "5      280\n",
       "4      123\n",
       "6       51\n",
       "0       14\n",
       "Name: EDUCATION, dtype: int64"
      ]
     },
     "execution_count": 8,
     "metadata": {},
     "output_type": "execute_result"
    }
   ],
   "source": [
    "data['EDUCATION'].value_counts()"
   ]
  },
  {
   "cell_type": "code",
   "execution_count": 9,
   "id": "5c3245ba",
   "metadata": {},
   "outputs": [],
   "source": [
    "data.loc[(data['EDUCATION']==0)|(data['EDUCATION']==5)|(data['EDUCATION']==6),\"EDUCATION\"]=4"
   ]
  },
  {
   "cell_type": "markdown",
   "id": "26c35a85",
   "metadata": {},
   "source": [
    "Similarly, we can check the marriage column and see if we can combine any classes, 0 is undocumented so we can merge it with 3: others, assuming that these people are similar in marriage status."
   ]
  },
  {
   "cell_type": "code",
   "execution_count": 10,
   "id": "43a67219",
   "metadata": {},
   "outputs": [
    {
     "data": {
      "text/plain": [
       "2    15964\n",
       "1    13659\n",
       "3      323\n",
       "0       54\n",
       "Name: MARRIAGE, dtype: int64"
      ]
     },
     "execution_count": 10,
     "metadata": {},
     "output_type": "execute_result"
    }
   ],
   "source": [
    "data[\"MARRIAGE\"].value_counts()"
   ]
  },
  {
   "cell_type": "code",
   "execution_count": 11,
   "id": "6c8fbc3a",
   "metadata": {},
   "outputs": [],
   "source": [
    "data.loc[data[\"MARRIAGE\"] == 0, \"MARRIAGE\"] = 3"
   ]
  },
  {
   "cell_type": "markdown",
   "id": "ed63457f",
   "metadata": {},
   "source": [
    "Let's take a look at columns that represent whether the payment for a specific month is on time or delayed. Seems like there are negative values, since 0 indicates paid ontime, and positive numbers indicate delays, **we will assume -1 and -1 also indicate the payment is ontime, and will combine these two categories with zero.**"
   ]
  },
  {
   "cell_type": "code",
   "execution_count": 12,
   "id": "ad9985dd",
   "metadata": {},
   "outputs": [
    {
     "data": {
      "text/html": [
       "<div>\n",
       "<style scoped>\n",
       "    .dataframe tbody tr th:only-of-type {\n",
       "        vertical-align: middle;\n",
       "    }\n",
       "\n",
       "    .dataframe tbody tr th {\n",
       "        vertical-align: top;\n",
       "    }\n",
       "\n",
       "    .dataframe thead th {\n",
       "        text-align: right;\n",
       "    }\n",
       "</style>\n",
       "<table border=\"1\" class=\"dataframe\">\n",
       "  <thead>\n",
       "    <tr style=\"text-align: right;\">\n",
       "      <th></th>\n",
       "      <th>PAY_0</th>\n",
       "      <th>PAY_2</th>\n",
       "      <th>PAY_3</th>\n",
       "      <th>PAY_4</th>\n",
       "      <th>PAY_5</th>\n",
       "      <th>PAY_6</th>\n",
       "    </tr>\n",
       "  </thead>\n",
       "  <tbody>\n",
       "    <tr>\n",
       "      <th>count</th>\n",
       "      <td>30000.000000</td>\n",
       "      <td>30000.000000</td>\n",
       "      <td>30000.000000</td>\n",
       "      <td>30000.000000</td>\n",
       "      <td>30000.000000</td>\n",
       "      <td>30000.000000</td>\n",
       "    </tr>\n",
       "    <tr>\n",
       "      <th>mean</th>\n",
       "      <td>-0.016700</td>\n",
       "      <td>-0.133767</td>\n",
       "      <td>-0.166200</td>\n",
       "      <td>-0.220667</td>\n",
       "      <td>-0.266200</td>\n",
       "      <td>-0.291100</td>\n",
       "    </tr>\n",
       "    <tr>\n",
       "      <th>std</th>\n",
       "      <td>1.123802</td>\n",
       "      <td>1.197186</td>\n",
       "      <td>1.196868</td>\n",
       "      <td>1.169139</td>\n",
       "      <td>1.133187</td>\n",
       "      <td>1.149988</td>\n",
       "    </tr>\n",
       "    <tr>\n",
       "      <th>min</th>\n",
       "      <td>-2.000000</td>\n",
       "      <td>-2.000000</td>\n",
       "      <td>-2.000000</td>\n",
       "      <td>-2.000000</td>\n",
       "      <td>-2.000000</td>\n",
       "      <td>-2.000000</td>\n",
       "    </tr>\n",
       "    <tr>\n",
       "      <th>25%</th>\n",
       "      <td>-1.000000</td>\n",
       "      <td>-1.000000</td>\n",
       "      <td>-1.000000</td>\n",
       "      <td>-1.000000</td>\n",
       "      <td>-1.000000</td>\n",
       "      <td>-1.000000</td>\n",
       "    </tr>\n",
       "    <tr>\n",
       "      <th>50%</th>\n",
       "      <td>0.000000</td>\n",
       "      <td>0.000000</td>\n",
       "      <td>0.000000</td>\n",
       "      <td>0.000000</td>\n",
       "      <td>0.000000</td>\n",
       "      <td>0.000000</td>\n",
       "    </tr>\n",
       "    <tr>\n",
       "      <th>75%</th>\n",
       "      <td>0.000000</td>\n",
       "      <td>0.000000</td>\n",
       "      <td>0.000000</td>\n",
       "      <td>0.000000</td>\n",
       "      <td>0.000000</td>\n",
       "      <td>0.000000</td>\n",
       "    </tr>\n",
       "    <tr>\n",
       "      <th>max</th>\n",
       "      <td>8.000000</td>\n",
       "      <td>8.000000</td>\n",
       "      <td>8.000000</td>\n",
       "      <td>8.000000</td>\n",
       "      <td>8.000000</td>\n",
       "      <td>8.000000</td>\n",
       "    </tr>\n",
       "  </tbody>\n",
       "</table>\n",
       "</div>"
      ],
      "text/plain": [
       "              PAY_0         PAY_2         PAY_3         PAY_4         PAY_5  \\\n",
       "count  30000.000000  30000.000000  30000.000000  30000.000000  30000.000000   \n",
       "mean      -0.016700     -0.133767     -0.166200     -0.220667     -0.266200   \n",
       "std        1.123802      1.197186      1.196868      1.169139      1.133187   \n",
       "min       -2.000000     -2.000000     -2.000000     -2.000000     -2.000000   \n",
       "25%       -1.000000     -1.000000     -1.000000     -1.000000     -1.000000   \n",
       "50%        0.000000      0.000000      0.000000      0.000000      0.000000   \n",
       "75%        0.000000      0.000000      0.000000      0.000000      0.000000   \n",
       "max        8.000000      8.000000      8.000000      8.000000      8.000000   \n",
       "\n",
       "              PAY_6  \n",
       "count  30000.000000  \n",
       "mean      -0.291100  \n",
       "std        1.149988  \n",
       "min       -2.000000  \n",
       "25%       -1.000000  \n",
       "50%        0.000000  \n",
       "75%        0.000000  \n",
       "max        8.000000  "
      ]
     },
     "execution_count": 12,
     "metadata": {},
     "output_type": "execute_result"
    }
   ],
   "source": [
    "data[['PAY_0', 'PAY_2', 'PAY_3', 'PAY_4', 'PAY_5', 'PAY_6']].describe()"
   ]
  },
  {
   "cell_type": "code",
   "execution_count": 13,
   "id": "61a905f5",
   "metadata": {},
   "outputs": [
    {
     "data": {
      "text/plain": [
       " 0    14737\n",
       "-1     5686\n",
       " 1     3688\n",
       "-2     2759\n",
       " 2     2667\n",
       " 3      322\n",
       " 4       76\n",
       " 5       26\n",
       " 8       19\n",
       " 6       11\n",
       " 7        9\n",
       "Name: PAY_0, dtype: int64"
      ]
     },
     "execution_count": 13,
     "metadata": {},
     "output_type": "execute_result"
    }
   ],
   "source": [
    "data['PAY_0'].value_counts() "
   ]
  },
  {
   "cell_type": "code",
   "execution_count": 14,
   "id": "e09cda92",
   "metadata": {},
   "outputs": [],
   "source": [
    "data.loc[(data[\"PAY_0\"] == -2) | (data[\"PAY_0\"] == -1) | (data[\"PAY_0\"] == 0), 'PAY_0'] = 0\n",
    "data.loc[(data[\"PAY_2\"] == -2) | (data[\"PAY_2\"]== -1) | (data[\"PAY_2\"] == 0), 'PAY_2'] = 0\n",
    "data.loc[(data[\"PAY_3\"] == -2) | (data[\"PAY_3\"] == -1) | (data[\"PAY_3\"]== 0), 'PAY_3'] = 0\n",
    "data.loc[(data[\"PAY_4\"] == -2) | (data[\"PAY_4\"] == -1) | (data[\"PAY_4\"] == 0), 'PAY_4'] = 0\n",
    "data.loc[(data[\"PAY_5\"] == -2) | (data[\"PAY_5\"] == -1) | (data[\"PAY_5\"] == 0), 'PAY_5'] = 0\n",
    "data.loc[(data[\"PAY_6\"] == -2) | (data[\"PAY_6\"] == -1) | (data[\"PAY_6\"] == 0), 'PAY_6'] = 0"
   ]
  },
  {
   "cell_type": "markdown",
   "id": "3022f04d",
   "metadata": {},
   "source": [
    "**Check other numerical variables**"
   ]
  },
  {
   "cell_type": "code",
   "execution_count": 15,
   "id": "e75e9b02",
   "metadata": {},
   "outputs": [
    {
     "data": {
      "text/html": [
       "<div>\n",
       "<style scoped>\n",
       "    .dataframe tbody tr th:only-of-type {\n",
       "        vertical-align: middle;\n",
       "    }\n",
       "\n",
       "    .dataframe tbody tr th {\n",
       "        vertical-align: top;\n",
       "    }\n",
       "\n",
       "    .dataframe thead th {\n",
       "        text-align: right;\n",
       "    }\n",
       "</style>\n",
       "<table border=\"1\" class=\"dataframe\">\n",
       "  <thead>\n",
       "    <tr style=\"text-align: right;\">\n",
       "      <th></th>\n",
       "      <th>BILL_AMT1</th>\n",
       "      <th>BILL_AMT2</th>\n",
       "      <th>BILL_AMT3</th>\n",
       "      <th>BILL_AMT4</th>\n",
       "      <th>BILL_AMT5</th>\n",
       "      <th>BILL_AMT6</th>\n",
       "    </tr>\n",
       "  </thead>\n",
       "  <tbody>\n",
       "    <tr>\n",
       "      <th>count</th>\n",
       "      <td>30000.000000</td>\n",
       "      <td>30000.000000</td>\n",
       "      <td>3.000000e+04</td>\n",
       "      <td>30000.000000</td>\n",
       "      <td>30000.000000</td>\n",
       "      <td>30000.000000</td>\n",
       "    </tr>\n",
       "    <tr>\n",
       "      <th>mean</th>\n",
       "      <td>51223.330900</td>\n",
       "      <td>49179.075167</td>\n",
       "      <td>4.701315e+04</td>\n",
       "      <td>43262.948967</td>\n",
       "      <td>40311.400967</td>\n",
       "      <td>38871.760400</td>\n",
       "    </tr>\n",
       "    <tr>\n",
       "      <th>std</th>\n",
       "      <td>73635.860576</td>\n",
       "      <td>71173.768783</td>\n",
       "      <td>6.934939e+04</td>\n",
       "      <td>64332.856134</td>\n",
       "      <td>60797.155770</td>\n",
       "      <td>59554.107537</td>\n",
       "    </tr>\n",
       "    <tr>\n",
       "      <th>min</th>\n",
       "      <td>-165580.000000</td>\n",
       "      <td>-69777.000000</td>\n",
       "      <td>-1.572640e+05</td>\n",
       "      <td>-170000.000000</td>\n",
       "      <td>-81334.000000</td>\n",
       "      <td>-339603.000000</td>\n",
       "    </tr>\n",
       "    <tr>\n",
       "      <th>25%</th>\n",
       "      <td>3558.750000</td>\n",
       "      <td>2984.750000</td>\n",
       "      <td>2.666250e+03</td>\n",
       "      <td>2326.750000</td>\n",
       "      <td>1763.000000</td>\n",
       "      <td>1256.000000</td>\n",
       "    </tr>\n",
       "    <tr>\n",
       "      <th>50%</th>\n",
       "      <td>22381.500000</td>\n",
       "      <td>21200.000000</td>\n",
       "      <td>2.008850e+04</td>\n",
       "      <td>19052.000000</td>\n",
       "      <td>18104.500000</td>\n",
       "      <td>17071.000000</td>\n",
       "    </tr>\n",
       "    <tr>\n",
       "      <th>75%</th>\n",
       "      <td>67091.000000</td>\n",
       "      <td>64006.250000</td>\n",
       "      <td>6.016475e+04</td>\n",
       "      <td>54506.000000</td>\n",
       "      <td>50190.500000</td>\n",
       "      <td>49198.250000</td>\n",
       "    </tr>\n",
       "    <tr>\n",
       "      <th>max</th>\n",
       "      <td>964511.000000</td>\n",
       "      <td>983931.000000</td>\n",
       "      <td>1.664089e+06</td>\n",
       "      <td>891586.000000</td>\n",
       "      <td>927171.000000</td>\n",
       "      <td>961664.000000</td>\n",
       "    </tr>\n",
       "  </tbody>\n",
       "</table>\n",
       "</div>"
      ],
      "text/plain": [
       "           BILL_AMT1      BILL_AMT2     BILL_AMT3      BILL_AMT4  \\\n",
       "count   30000.000000   30000.000000  3.000000e+04   30000.000000   \n",
       "mean    51223.330900   49179.075167  4.701315e+04   43262.948967   \n",
       "std     73635.860576   71173.768783  6.934939e+04   64332.856134   \n",
       "min   -165580.000000  -69777.000000 -1.572640e+05 -170000.000000   \n",
       "25%      3558.750000    2984.750000  2.666250e+03    2326.750000   \n",
       "50%     22381.500000   21200.000000  2.008850e+04   19052.000000   \n",
       "75%     67091.000000   64006.250000  6.016475e+04   54506.000000   \n",
       "max    964511.000000  983931.000000  1.664089e+06  891586.000000   \n",
       "\n",
       "           BILL_AMT5      BILL_AMT6  \n",
       "count   30000.000000   30000.000000  \n",
       "mean    40311.400967   38871.760400  \n",
       "std     60797.155770   59554.107537  \n",
       "min    -81334.000000 -339603.000000  \n",
       "25%      1763.000000    1256.000000  \n",
       "50%     18104.500000   17071.000000  \n",
       "75%     50190.500000   49198.250000  \n",
       "max    927171.000000  961664.000000  "
      ]
     },
     "execution_count": 15,
     "metadata": {},
     "output_type": "execute_result"
    }
   ],
   "source": [
    "# Bill amount\n",
    "data[['BILL_AMT1', 'BILL_AMT2', 'BILL_AMT3', 'BILL_AMT4', 'BILL_AMT5', 'BILL_AMT6']].describe()"
   ]
  },
  {
   "cell_type": "markdown",
   "id": "cdd942ad",
   "metadata": {},
   "source": [
    "**There are negative values of the bill amount, we can interpret them as credit and not impute or change their values.**"
   ]
  },
  {
   "cell_type": "code",
   "execution_count": 16,
   "id": "7e4ab007",
   "metadata": {},
   "outputs": [
    {
     "data": {
      "text/html": [
       "<div>\n",
       "<style scoped>\n",
       "    .dataframe tbody tr th:only-of-type {\n",
       "        vertical-align: middle;\n",
       "    }\n",
       "\n",
       "    .dataframe tbody tr th {\n",
       "        vertical-align: top;\n",
       "    }\n",
       "\n",
       "    .dataframe thead th {\n",
       "        text-align: right;\n",
       "    }\n",
       "</style>\n",
       "<table border=\"1\" class=\"dataframe\">\n",
       "  <thead>\n",
       "    <tr style=\"text-align: right;\">\n",
       "      <th></th>\n",
       "      <th>PAY_AMT1</th>\n",
       "      <th>PAY_AMT2</th>\n",
       "      <th>PAY_AMT3</th>\n",
       "      <th>PAY_AMT4</th>\n",
       "      <th>PAY_AMT5</th>\n",
       "      <th>PAY_AMT6</th>\n",
       "    </tr>\n",
       "  </thead>\n",
       "  <tbody>\n",
       "    <tr>\n",
       "      <th>count</th>\n",
       "      <td>30000.000000</td>\n",
       "      <td>3.000000e+04</td>\n",
       "      <td>30000.00000</td>\n",
       "      <td>30000.000000</td>\n",
       "      <td>30000.000000</td>\n",
       "      <td>30000.000000</td>\n",
       "    </tr>\n",
       "    <tr>\n",
       "      <th>mean</th>\n",
       "      <td>5663.580500</td>\n",
       "      <td>5.921163e+03</td>\n",
       "      <td>5225.68150</td>\n",
       "      <td>4826.076867</td>\n",
       "      <td>4799.387633</td>\n",
       "      <td>5215.502567</td>\n",
       "    </tr>\n",
       "    <tr>\n",
       "      <th>std</th>\n",
       "      <td>16563.280354</td>\n",
       "      <td>2.304087e+04</td>\n",
       "      <td>17606.96147</td>\n",
       "      <td>15666.159744</td>\n",
       "      <td>15278.305679</td>\n",
       "      <td>17777.465775</td>\n",
       "    </tr>\n",
       "    <tr>\n",
       "      <th>min</th>\n",
       "      <td>0.000000</td>\n",
       "      <td>0.000000e+00</td>\n",
       "      <td>0.00000</td>\n",
       "      <td>0.000000</td>\n",
       "      <td>0.000000</td>\n",
       "      <td>0.000000</td>\n",
       "    </tr>\n",
       "    <tr>\n",
       "      <th>25%</th>\n",
       "      <td>1000.000000</td>\n",
       "      <td>8.330000e+02</td>\n",
       "      <td>390.00000</td>\n",
       "      <td>296.000000</td>\n",
       "      <td>252.500000</td>\n",
       "      <td>117.750000</td>\n",
       "    </tr>\n",
       "    <tr>\n",
       "      <th>50%</th>\n",
       "      <td>2100.000000</td>\n",
       "      <td>2.009000e+03</td>\n",
       "      <td>1800.00000</td>\n",
       "      <td>1500.000000</td>\n",
       "      <td>1500.000000</td>\n",
       "      <td>1500.000000</td>\n",
       "    </tr>\n",
       "    <tr>\n",
       "      <th>75%</th>\n",
       "      <td>5006.000000</td>\n",
       "      <td>5.000000e+03</td>\n",
       "      <td>4505.00000</td>\n",
       "      <td>4013.250000</td>\n",
       "      <td>4031.500000</td>\n",
       "      <td>4000.000000</td>\n",
       "    </tr>\n",
       "    <tr>\n",
       "      <th>max</th>\n",
       "      <td>873552.000000</td>\n",
       "      <td>1.684259e+06</td>\n",
       "      <td>896040.00000</td>\n",
       "      <td>621000.000000</td>\n",
       "      <td>426529.000000</td>\n",
       "      <td>528666.000000</td>\n",
       "    </tr>\n",
       "  </tbody>\n",
       "</table>\n",
       "</div>"
      ],
      "text/plain": [
       "            PAY_AMT1      PAY_AMT2      PAY_AMT3       PAY_AMT4  \\\n",
       "count   30000.000000  3.000000e+04   30000.00000   30000.000000   \n",
       "mean     5663.580500  5.921163e+03    5225.68150    4826.076867   \n",
       "std     16563.280354  2.304087e+04   17606.96147   15666.159744   \n",
       "min         0.000000  0.000000e+00       0.00000       0.000000   \n",
       "25%      1000.000000  8.330000e+02     390.00000     296.000000   \n",
       "50%      2100.000000  2.009000e+03    1800.00000    1500.000000   \n",
       "75%      5006.000000  5.000000e+03    4505.00000    4013.250000   \n",
       "max    873552.000000  1.684259e+06  896040.00000  621000.000000   \n",
       "\n",
       "            PAY_AMT5       PAY_AMT6  \n",
       "count   30000.000000   30000.000000  \n",
       "mean     4799.387633    5215.502567  \n",
       "std     15278.305679   17777.465775  \n",
       "min         0.000000       0.000000  \n",
       "25%       252.500000     117.750000  \n",
       "50%      1500.000000    1500.000000  \n",
       "75%      4031.500000    4000.000000  \n",
       "max    426529.000000  528666.000000  "
      ]
     },
     "execution_count": 16,
     "metadata": {},
     "output_type": "execute_result"
    }
   ],
   "source": [
    "#Previous payment amount\n",
    "data[['PAY_AMT1', 'PAY_AMT2', 'PAY_AMT3', 'PAY_AMT4', 'PAY_AMT5', 'PAY_AMT6']].describe()"
   ]
  },
  {
   "cell_type": "markdown",
   "id": "d59e4e1b",
   "metadata": {},
   "source": [
    "The minimum payment amount is zero, which makes sense."
   ]
  },
  {
   "cell_type": "markdown",
   "id": "4cb5b944",
   "metadata": {},
   "source": [
    "## EDA"
   ]
  },
  {
   "cell_type": "code",
   "execution_count": 17,
   "id": "385eedc4",
   "metadata": {},
   "outputs": [
    {
     "data": {
      "text/plain": [
       "Index(['ID', 'LIMIT_BAL', 'SEX', 'EDUCATION', 'MARRIAGE', 'AGE', 'PAY_0',\n",
       "       'PAY_2', 'PAY_3', 'PAY_4', 'PAY_5', 'PAY_6', 'BILL_AMT1', 'BILL_AMT2',\n",
       "       'BILL_AMT3', 'BILL_AMT4', 'BILL_AMT5', 'BILL_AMT6', 'PAY_AMT1',\n",
       "       'PAY_AMT2', 'PAY_AMT3', 'PAY_AMT4', 'PAY_AMT5', 'PAY_AMT6',\n",
       "       'default payment next month'],\n",
       "      dtype='object')"
      ]
     },
     "execution_count": 17,
     "metadata": {},
     "output_type": "execute_result"
    }
   ],
   "source": [
    "data.columns"
   ]
  },
  {
   "cell_type": "markdown",
   "id": "90a11f41",
   "metadata": {},
   "source": [
    "#### First we are interested in the distribution of our target variable, so let's check the number of default vs non-default"
   ]
  },
  {
   "cell_type": "code",
   "execution_count": 18,
   "id": "66756a0a",
   "metadata": {},
   "outputs": [
    {
     "data": {
      "text/plain": [
       "<AxesSubplot:ylabel='default payment next month'>"
      ]
     },
     "execution_count": 18,
     "metadata": {},
     "output_type": "execute_result"
    },
    {
     "data": {
      "image/png": "[encoded data removed]",
      "text/plain": [
       "<Figure size 432x288 with 1 Axes>"
      ]
     },
     "metadata": {
      "needs_background": "light"
     },
     "output_type": "display_data"
    }
   ],
   "source": [
    "sns.barplot(x=data['default payment next month'].value_counts().index,y=data['default payment next month'].value_counts())"
   ]
  },
  {
   "cell_type": "markdown",
   "id": "a70eadc1",
   "metadata": {},
   "source": [
    "Based on the above bar chart, we see that there is a strong imbalance between non-default and default payments, therefore when doing predictions we need to take into account the imbalance."
   ]
  },
  {
   "cell_type": "markdown",
   "id": "2b29baea",
   "metadata": {},
   "source": [
    "Let's take a look at some other features, and:\n",
    "1. Credit limit\n",
    "2. Bill amount per month\n",
    "3. Payment amount per month\n",
    "4. Categorical Vaiables"
   ]
  },
  {
   "cell_type": "markdown",
   "id": "daa4d3d5",
   "metadata": {},
   "source": [
    "### We can define a function to plot categorical variables and numerical variables agains default payment status since we have quite many different variables."
   ]
  },
  {
   "cell_type": "code",
   "execution_count": 19,
   "id": "da31f25f",
   "metadata": {},
   "outputs": [],
   "source": [
    "def plot_variables(var1, hue = 'default payment next month', var2 = None, typ=\"numeric\"):\n",
    "    '''Plot histogram for single variable agains default payment or plot boxplot for one categorical\n",
    "    and on numerical variable\n",
    "    var1: the variable we would like to study against default payment, can be numeric or categorical\n",
    "    hue: column to group by when performing visualization, default is default payment next month\n",
    "    var2: optional variable if we would like to study three variables together, would have to be numeric since \n",
    "    we will do boxplots\n",
    "    typ: if var1 is numeric, we plot histogram, if var1 is categorical we do cross tabulation and do bar plot\n",
    "    '''\n",
    "    if not var2:\n",
    "        if typ == \"numeric\":\n",
    "            sns.histplot(x=var1, hue = hue, data=data)\n",
    "        else:\n",
    "            groupdf = data.groupby([var1, hue]).size().unstack()\n",
    "            groupdf.plot(kind='bar')\n",
    "            \n",
    "    else:\n",
    "        sns.catplot(data=data, x=var1, y=var2, hue=hue, kind=\"box\")"
   ]
  },
  {
   "cell_type": "code",
   "execution_count": 20,
   "id": "9b1f5626",
   "metadata": {},
   "outputs": [
    {
     "data": {
      "image/png": "[encoded data removed]",
      "text/plain": [
       "<Figure size 720x360 with 1 Axes>"
      ]
     },
     "metadata": {
      "needs_background": "light"
     },
     "output_type": "display_data"
    }
   ],
   "source": [
    "plt.figure(figsize = (10,5))\n",
    "p = plt.hist(data['LIMIT_BAL'],bins=50)"
   ]
  },
  {
   "cell_type": "markdown",
   "id": "71095b3b",
   "metadata": {},
   "source": [
    "Above shows the overall distribution of credit limit, where we see most limits are within 40000. Now we will plot credit limit balance by default payment."
   ]
  },
  {
   "cell_type": "code",
   "execution_count": 21,
   "id": "d382f82a",
   "metadata": {},
   "outputs": [
    {
     "data": {
      "image/png": "[encoded data removed]",
      "text/plain": [
       "<Figure size 720x360 with 1 Axes>"
      ]
     },
     "metadata": {
      "needs_background": "light"
     },
     "output_type": "display_data"
    }
   ],
   "source": [
    "plt.figure(figsize = (10,5))\n",
    "plot_variables(\"LIMIT_BAL\")"
   ]
  },
  {
   "cell_type": "markdown",
   "id": "372b575d",
   "metadata": {},
   "source": [
    "By plotting the credit balance by default payment, we see that those who default are more concentrated toward the left (smaller than 40000) compared with those who paid on time."
   ]
  },
  {
   "cell_type": "code",
   "execution_count": 22,
   "id": "f1b1eebc",
   "metadata": {},
   "outputs": [
    {
     "data": {
      "image/png": "[encoded data removed]",
      "text/plain": [
       "<Figure size 720x360 with 1 Axes>"
      ]
     },
     "metadata": {
      "needs_background": "light"
     },
     "output_type": "display_data"
    }
   ],
   "source": [
    "#plot histogram of credit limit against sex\n",
    "plt.figure(figsize = (10,5))\n",
    "plot_variables(\"LIMIT_BAL\",hue=\"SEX\")"
   ]
  },
  {
   "cell_type": "markdown",
   "id": "858024b8",
   "metadata": {},
   "source": [
    "Credit limits are quite balanced among sex, might have sligh differences in distribution and outliers."
   ]
  },
  {
   "cell_type": "code",
   "execution_count": 23,
   "id": "c765f904",
   "metadata": {
    "scrolled": true
   },
   "outputs": [
    {
     "data": {
      "image/png": "[encoded data removed]",
      "text/plain": [
       "<Figure size 511.375x360 with 1 Axes>"
      ]
     },
     "metadata": {
      "needs_background": "light"
     },
     "output_type": "display_data"
    }
   ],
   "source": [
    "#plot credit limit vs sex, by default payment\n",
    "plot_variables(\"SEX\",hue ='default payment next month', var2 = 'LIMIT_BAL' )"
   ]
  },
  {
   "cell_type": "markdown",
   "id": "e622ce21",
   "metadata": {},
   "source": [
    "After separating them by default payment, we observed that for both male and female, those who default have a lower median credit limits, this is aligned with the histogram of credit limit we showed above. And for male, the spread (based on IQR) is larger than female, so sex and credit limit can be helpful in predicting likelihood of default"
   ]
  },
  {
   "cell_type": "code",
   "execution_count": 24,
   "id": "fffc649a",
   "metadata": {},
   "outputs": [
    {
     "data": {
      "image/png": "[encoded data removed]",
      "text/plain": [
       "<Figure size 511.375x360 with 1 Axes>"
      ]
     },
     "metadata": {
      "needs_background": "light"
     },
     "output_type": "display_data"
    }
   ],
   "source": [
    "#plot credit limit vs sex, by default payment\n",
    "plot_variables(\"MARRIAGE\",hue ='default payment next month', var2 = 'LIMIT_BAL'  )"
   ]
  },
  {
   "cell_type": "markdown",
   "id": "c0ec09fd",
   "metadata": {},
   "source": [
    "Similar to sex, we observed that those who default have lower median credit limit, regardless of which stage is the marriage, and for married people, credit limits are highest, then single, then for group others, so others might be indicating people who divorced, etc."
   ]
  },
  {
   "cell_type": "code",
   "execution_count": 25,
   "id": "f519d621",
   "metadata": {},
   "outputs": [
    {
     "data": {
      "image/png": "[encoded data removed]",
      "text/plain": [
       "<Figure size 432x288 with 1 Axes>"
      ]
     },
     "metadata": {
      "needs_background": "light"
     },
     "output_type": "display_data"
    },
    {
     "data": {
      "image/png": "[encoded data removed]",
      "text/plain": [
       "<Figure size 432x288 with 1 Axes>"
      ]
     },
     "metadata": {
      "needs_background": "light"
     },
     "output_type": "display_data"
    },
    {
     "data": {
      "image/png": "[encoded data removed]",
      "text/plain": [
       "<Figure size 432x288 with 1 Axes>"
      ]
     },
     "metadata": {
      "needs_background": "light"
     },
     "output_type": "display_data"
    },
    {
     "data": {
      "image/png": "[encoded data removed]",
      "text/plain": [
       "<Figure size 432x288 with 1 Axes>"
      ]
     },
     "metadata": {
      "needs_background": "light"
     },
     "output_type": "display_data"
    },
    {
     "data": {
      "image/png": "[encoded data removed]",
      "text/plain": [
       "<Figure size 432x288 with 1 Axes>"
      ]
     },
     "metadata": {
      "needs_background": "light"
     },
     "output_type": "display_data"
    },
    {
     "data": {
      "image/png": "[encoded data removed]",
      "text/plain": [
       "<Figure size 432x288 with 1 Axes>"
      ]
     },
     "metadata": {
      "needs_background": "light"
     },
     "output_type": "display_data"
    },
    {
     "data": {
      "image/png": "[encoded data removed]",
      "text/plain": [
       "<Figure size 432x288 with 1 Axes>"
      ]
     },
     "metadata": {
      "needs_background": "light"
     },
     "output_type": "display_data"
    },
    {
     "data": {
      "image/png": "[encoded data removed]",
      "text/plain": [
       "<Figure size 432x288 with 1 Axes>"
      ]
     },
     "metadata": {
      "needs_background": "light"
     },
     "output_type": "display_data"
    },
    {
     "data": {
      "image/png": "[encoded data removed]",
      "text/plain": [
       "<Figure size 432x288 with 1 Axes>"
      ]
     },
     "metadata": {
      "needs_background": "light"
     },
     "output_type": "display_data"
    }
   ],
   "source": [
    "# here we zoom into relationship between three categorical variables AND 6 ordinal variables and default\n",
    "for col in [\"SEX\",\"MARRIAGE\",\"EDUCATION\",\"PAY_0\",\"PAY_2\",\"PAY_3\",\"PAY_4\",\"PAY_5\",\"PAY_6\"]:\n",
    "    plot_variables(col,hue ='default payment next month', typ=\"categorical\")"
   ]
  },
  {
   "cell_type": "markdown",
   "id": "c94c2d35",
   "metadata": {},
   "source": [
    "Based on the height of the default bars, we concluded that women, single and university graduates tend to have more numbers of defult, however, ratio wise, it seems like male, married and high school graduate have higher probability of defaults. And for repayment status, starting from delay two months or more, we can start to observe number of defaults could potentially exceed number of non-defaults."
   ]
  },
  {
   "cell_type": "markdown",
   "id": "998f4b3b",
   "metadata": {},
   "source": [
    "**Let's focus on other numeric variables**"
   ]
  },
  {
   "cell_type": "code",
   "execution_count": 26,
   "id": "8876f0c7",
   "metadata": {},
   "outputs": [
    {
     "data": {
      "image/png": "[encoded data removed]",
      "text/plain": [
       "<Figure size 720x360 with 1 Axes>"
      ]
     },
     "metadata": {
      "needs_background": "light"
     },
     "output_type": "display_data"
    }
   ],
   "source": [
    "#age\n",
    "plt.figure(figsize = (10,5))\n",
    "plot_variables(\"AGE\")"
   ]
  },
  {
   "cell_type": "markdown",
   "id": "d3fab9c1",
   "metadata": {},
   "source": [
    "Distribution of default people are flatter, but for both default types, we observed there is a higher number of people around younger people (age 20-30s), but the proportion of default seems to be larger for older people."
   ]
  },
  {
   "cell_type": "code",
   "execution_count": 27,
   "id": "656c690a",
   "metadata": {},
   "outputs": [
    {
     "data": {
      "image/png": "[encoded data removed]",
      "text/plain": [
       "<Figure size 511.375x360 with 1 Axes>"
      ]
     },
     "metadata": {
      "needs_background": "light"
     },
     "output_type": "display_data"
    }
   ],
   "source": [
    "#plot age vs marriage, by default payment\n",
    "plot_variables(\"MARRIAGE\",hue ='default payment next month', var2 = 'AGE' )"
   ]
  },
  {
   "cell_type": "markdown",
   "id": "7c961d22",
   "metadata": {},
   "source": [
    "We observed that for married and other group, we have default people having larger ages on average, while for single, we have slightly lower age for default people. Which seems to make sense because for younger people, we might pay less attention on spending and credit balance, and for married and other people, economic or other situation affecting default payment tend to increase as we progress later in our life. So combination of marriage status and age will be helpful in predictin likelihood."
   ]
  },
  {
   "cell_type": "code",
   "execution_count": 28,
   "id": "5e2f42df",
   "metadata": {},
   "outputs": [
    {
     "data": {
      "image/png": "[encoded data removed]",
      "text/plain": [
       "<Figure size 511.375x360 with 1 Axes>"
      ]
     },
     "metadata": {
      "needs_background": "light"
     },
     "output_type": "display_data"
    }
   ],
   "source": [
    "#plot age vs sex, by default payment\n",
    "plot_variables(\"SEX\",hue ='default payment next month', var2 = 'AGE' )"
   ]
  },
  {
   "cell_type": "markdown",
   "id": "444f4a72",
   "metadata": {},
   "source": [
    "For both genders, median age seems to be slightly higher for default"
   ]
  },
  {
   "cell_type": "code",
   "execution_count": 29,
   "id": "758887c3",
   "metadata": {},
   "outputs": [
    {
     "data": {
      "image/png": "[encoded data removed]",
      "text/plain": [
       "<Figure size 511.375x360 with 1 Axes>"
      ]
     },
     "metadata": {
      "needs_background": "light"
     },
     "output_type": "display_data"
    }
   ],
   "source": [
    "#plot credit limit vs sex, by default payment\n",
    "plot_variables(\"EDUCATION\",hue ='default payment next month', var2 = 'AGE' )"
   ]
  },
  {
   "cell_type": "markdown",
   "id": "15183b6d",
   "metadata": {},
   "source": [
    "Age for default is higher for graduate school, high school and other, but lower for university grads, and age is significantly higher for default in the group \"other\", and older people might have shorter education (indicated by high school or other)"
   ]
  },
  {
   "cell_type": "markdown",
   "id": "f0531758",
   "metadata": {},
   "source": [
    "In addition, we will focus on bill amount and payment amount as by intuition we belive that these two should be really close to each other."
   ]
  },
  {
   "cell_type": "code",
   "execution_count": 30,
   "id": "be10ff42",
   "metadata": {},
   "outputs": [
    {
     "data": {
      "text/plain": [
       "<AxesSubplot:>"
      ]
     },
     "execution_count": 30,
     "metadata": {},
     "output_type": "execute_result"
    },
    {
     "data": {
      "image/png": "[encoded data removed]",
      "text/plain": [
       "<Figure size 1008x720 with 2 Axes>"
      ]
     },
     "metadata": {
      "needs_background": "light"
     },
     "output_type": "display_data"
    }
   ],
   "source": [
    "columns = ['BILL_AMT1','BILL_AMT2','BILL_AMT3','BILL_AMT4','BILL_AMT5','BILL_AMT6','PAY_AMT1','PAY_AMT2','PAY_AMT3','PAY_AMT4','PAY_AMT5','PAY_AMT6']\n",
    "plt.figure(figsize=(14,10))\n",
    "corr = data[columns].corr()\n",
    "sns.heatmap(corr,xticklabels=corr.columns)"
   ]
  },
  {
   "cell_type": "markdown",
   "id": "eae0ae13",
   "metadata": {},
   "source": [
    "As months become further apart, we observe smaller correlation. And correlation between bill amount and payment amount are not strong, so we would include both in our model."
   ]
  },
  {
   "cell_type": "code",
   "execution_count": null,
   "id": "0659e6b7",
   "metadata": {},
   "outputs": [],
   "source": []
  },
  {
   "cell_type": "markdown",
   "id": "892ec9e7",
   "metadata": {},
   "source": [
    "## Model Construction\n",
    "Based on our previous data exploration, we see that each categorical variable or numerical variable do have some indication of default status, but not necessarily in a linear way, therefore, we will first use a random forest classifier to predict the likelihood, and then see if boosting can reduce bias even further.\n",
    "\n",
    "### Evaluation Metric\n",
    "For this problem I will use area under curve as my primary metric, since we focus on probability of payment, we will not have a defined threshold, so precision or recall would be deterministic and not flexible, area under the curve can provide us information on how the model performs across different probability thresholds."
   ]
  },
  {
   "cell_type": "code",
   "execution_count": 31,
   "id": "716512f3",
   "metadata": {},
   "outputs": [
    {
     "data": {
      "text/html": [
       "<div>\n",
       "<style scoped>\n",
       "    .dataframe tbody tr th:only-of-type {\n",
       "        vertical-align: middle;\n",
       "    }\n",
       "\n",
       "    .dataframe tbody tr th {\n",
       "        vertical-align: top;\n",
       "    }\n",
       "\n",
       "    .dataframe thead th {\n",
       "        text-align: right;\n",
       "    }\n",
       "</style>\n",
       "<table border=\"1\" class=\"dataframe\">\n",
       "  <thead>\n",
       "    <tr style=\"text-align: right;\">\n",
       "      <th></th>\n",
       "      <th>ID</th>\n",
       "      <th>LIMIT_BAL</th>\n",
       "      <th>SEX</th>\n",
       "      <th>EDUCATION</th>\n",
       "      <th>MARRIAGE</th>\n",
       "      <th>AGE</th>\n",
       "      <th>PAY_0</th>\n",
       "      <th>PAY_2</th>\n",
       "      <th>PAY_3</th>\n",
       "      <th>PAY_4</th>\n",
       "      <th>...</th>\n",
       "      <th>BILL_AMT4</th>\n",
       "      <th>BILL_AMT5</th>\n",
       "      <th>BILL_AMT6</th>\n",
       "      <th>PAY_AMT1</th>\n",
       "      <th>PAY_AMT2</th>\n",
       "      <th>PAY_AMT3</th>\n",
       "      <th>PAY_AMT4</th>\n",
       "      <th>PAY_AMT5</th>\n",
       "      <th>PAY_AMT6</th>\n",
       "      <th>default payment next month</th>\n",
       "    </tr>\n",
       "  </thead>\n",
       "  <tbody>\n",
       "    <tr>\n",
       "      <th>0</th>\n",
       "      <td>1</td>\n",
       "      <td>20000</td>\n",
       "      <td>2</td>\n",
       "      <td>2</td>\n",
       "      <td>1</td>\n",
       "      <td>24</td>\n",
       "      <td>2</td>\n",
       "      <td>2</td>\n",
       "      <td>0</td>\n",
       "      <td>0</td>\n",
       "      <td>...</td>\n",
       "      <td>0</td>\n",
       "      <td>0</td>\n",
       "      <td>0</td>\n",
       "      <td>0</td>\n",
       "      <td>689</td>\n",
       "      <td>0</td>\n",
       "      <td>0</td>\n",
       "      <td>0</td>\n",
       "      <td>0</td>\n",
       "      <td>1</td>\n",
       "    </tr>\n",
       "    <tr>\n",
       "      <th>1</th>\n",
       "      <td>2</td>\n",
       "      <td>120000</td>\n",
       "      <td>2</td>\n",
       "      <td>2</td>\n",
       "      <td>2</td>\n",
       "      <td>26</td>\n",
       "      <td>0</td>\n",
       "      <td>2</td>\n",
       "      <td>0</td>\n",
       "      <td>0</td>\n",
       "      <td>...</td>\n",
       "      <td>3272</td>\n",
       "      <td>3455</td>\n",
       "      <td>3261</td>\n",
       "      <td>0</td>\n",
       "      <td>1000</td>\n",
       "      <td>1000</td>\n",
       "      <td>1000</td>\n",
       "      <td>0</td>\n",
       "      <td>2000</td>\n",
       "      <td>1</td>\n",
       "    </tr>\n",
       "    <tr>\n",
       "      <th>2</th>\n",
       "      <td>3</td>\n",
       "      <td>90000</td>\n",
       "      <td>2</td>\n",
       "      <td>2</td>\n",
       "      <td>2</td>\n",
       "      <td>34</td>\n",
       "      <td>0</td>\n",
       "      <td>0</td>\n",
       "      <td>0</td>\n",
       "      <td>0</td>\n",
       "      <td>...</td>\n",
       "      <td>14331</td>\n",
       "      <td>14948</td>\n",
       "      <td>15549</td>\n",
       "      <td>1518</td>\n",
       "      <td>1500</td>\n",
       "      <td>1000</td>\n",
       "      <td>1000</td>\n",
       "      <td>1000</td>\n",
       "      <td>5000</td>\n",
       "      <td>0</td>\n",
       "    </tr>\n",
       "    <tr>\n",
       "      <th>3</th>\n",
       "      <td>4</td>\n",
       "      <td>50000</td>\n",
       "      <td>2</td>\n",
       "      <td>2</td>\n",
       "      <td>1</td>\n",
       "      <td>37</td>\n",
       "      <td>0</td>\n",
       "      <td>0</td>\n",
       "      <td>0</td>\n",
       "      <td>0</td>\n",
       "      <td>...</td>\n",
       "      <td>28314</td>\n",
       "      <td>28959</td>\n",
       "      <td>29547</td>\n",
       "      <td>2000</td>\n",
       "      <td>2019</td>\n",
       "      <td>1200</td>\n",
       "      <td>1100</td>\n",
       "      <td>1069</td>\n",
       "      <td>1000</td>\n",
       "      <td>0</td>\n",
       "    </tr>\n",
       "    <tr>\n",
       "      <th>4</th>\n",
       "      <td>5</td>\n",
       "      <td>50000</td>\n",
       "      <td>1</td>\n",
       "      <td>2</td>\n",
       "      <td>1</td>\n",
       "      <td>57</td>\n",
       "      <td>0</td>\n",
       "      <td>0</td>\n",
       "      <td>0</td>\n",
       "      <td>0</td>\n",
       "      <td>...</td>\n",
       "      <td>20940</td>\n",
       "      <td>19146</td>\n",
       "      <td>19131</td>\n",
       "      <td>2000</td>\n",
       "      <td>36681</td>\n",
       "      <td>10000</td>\n",
       "      <td>9000</td>\n",
       "      <td>689</td>\n",
       "      <td>679</td>\n",
       "      <td>0</td>\n",
       "    </tr>\n",
       "  </tbody>\n",
       "</table>\n",
       "<p>5 rows × 25 columns</p>\n",
       "</div>"
      ],
      "text/plain": [
       "   ID  LIMIT_BAL  SEX  EDUCATION  MARRIAGE  AGE  PAY_0  PAY_2  PAY_3  PAY_4  \\\n",
       "0   1      20000    2          2         1   24      2      2      0      0   \n",
       "1   2     120000    2          2         2   26      0      2      0      0   \n",
       "2   3      90000    2          2         2   34      0      0      0      0   \n",
       "3   4      50000    2          2         1   37      0      0      0      0   \n",
       "4   5      50000    1          2         1   57      0      0      0      0   \n",
       "\n",
       "   ...  BILL_AMT4  BILL_AMT5  BILL_AMT6  PAY_AMT1  PAY_AMT2  PAY_AMT3  \\\n",
       "0  ...          0          0          0         0       689         0   \n",
       "1  ...       3272       3455       3261         0      1000      1000   \n",
       "2  ...      14331      14948      15549      1518      1500      1000   \n",
       "3  ...      28314      28959      29547      2000      2019      1200   \n",
       "4  ...      20940      19146      19131      2000     36681     10000   \n",
       "\n",
       "   PAY_AMT4  PAY_AMT5  PAY_AMT6  default payment next month  \n",
       "0         0         0         0                           1  \n",
       "1      1000         0      2000                           1  \n",
       "2      1000      1000      5000                           0  \n",
       "3      1100      1069      1000                           0  \n",
       "4      9000       689       679                           0  \n",
       "\n",
       "[5 rows x 25 columns]"
      ]
     },
     "execution_count": 31,
     "metadata": {},
     "output_type": "execute_result"
    }
   ],
   "source": [
    "data.head()"
   ]
  },
  {
   "cell_type": "code",
   "execution_count": 32,
   "id": "0d1057d9",
   "metadata": {},
   "outputs": [],
   "source": [
    "X = data.drop([\"ID\",'default payment next month'],axis=1)"
   ]
  },
  {
   "cell_type": "markdown",
   "id": "3258754f",
   "metadata": {},
   "source": [
    "Some categorical variables need one-hot encoding, since they do not have strong ordinal meanings, unlike payment status where month 1 is different than month 8. We use pandas to get dummy variables."
   ]
  },
  {
   "cell_type": "code",
   "execution_count": 33,
   "id": "7dbfc9af",
   "metadata": {},
   "outputs": [],
   "source": [
    "cat_cols= ['EDUCATION', 'SEX', 'MARRIAGE']\n",
    "X = pd.get_dummies(X, columns = cat_cols)"
   ]
  },
  {
   "cell_type": "code",
   "execution_count": 34,
   "id": "10a022f0",
   "metadata": {},
   "outputs": [],
   "source": [
    "y = data['default payment next month']"
   ]
  },
  {
   "cell_type": "code",
   "execution_count": 35,
   "id": "28f817d7",
   "metadata": {},
   "outputs": [],
   "source": [
    "X_train, X_test, y_train, y_test = train_test_split(X, y, test_size=0.33, random_state=42)"
   ]
  },
  {
   "cell_type": "code",
   "execution_count": 36,
   "id": "7645637b",
   "metadata": {},
   "outputs": [],
   "source": [
    "rf = RandomForestClassifier()"
   ]
  },
  {
   "cell_type": "code",
   "execution_count": 37,
   "id": "f25e07df",
   "metadata": {},
   "outputs": [
    {
     "data": {
      "text/plain": [
       "RandomForestClassifier()"
      ]
     },
     "execution_count": 37,
     "metadata": {},
     "output_type": "execute_result"
    }
   ],
   "source": [
    "rf.fit(X_train, y_train)"
   ]
  },
  {
   "cell_type": "code",
   "execution_count": 38,
   "id": "7da454ce",
   "metadata": {},
   "outputs": [],
   "source": [
    "# make binary predictions to use ROC as metric\n",
    "predictions = rf.predict(X_test)"
   ]
  },
  {
   "cell_type": "code",
   "execution_count": 39,
   "id": "55b8b4e0",
   "metadata": {},
   "outputs": [
    {
     "data": {
      "text/plain": [
       "0.6536659923879689"
      ]
     },
     "execution_count": 39,
     "metadata": {},
     "output_type": "execute_result"
    }
   ],
   "source": [
    "roc_auc_score(y_test, predictions)"
   ]
  },
  {
   "cell_type": "markdown",
   "id": "0e2c8bfc",
   "metadata": {},
   "source": [
    "Area under curve is 0.65, which is better than a random classifier, lets generate the probabilities which in the context of random forest are equal to the proportion of votes."
   ]
  },
  {
   "cell_type": "code",
   "execution_count": 40,
   "id": "f535270c",
   "metadata": {},
   "outputs": [],
   "source": [
    "pred_probs = rf.predict_proba(X_test)"
   ]
  },
  {
   "cell_type": "code",
   "execution_count": 41,
   "id": "3ad251ab",
   "metadata": {},
   "outputs": [
    {
     "data": {
      "text/plain": [
       "array([[0.76, 0.24],\n",
       "       [0.94, 0.06],\n",
       "       [0.68, 0.32],\n",
       "       ...,\n",
       "       [0.93, 0.07],\n",
       "       [0.78, 0.22],\n",
       "       [0.94, 0.06]])"
      ]
     },
     "execution_count": 41,
     "metadata": {},
     "output_type": "execute_result"
    }
   ],
   "source": [
    "# the second column is the probability of default\n",
    "pred_probs"
   ]
  },
  {
   "cell_type": "markdown",
   "id": "a4294c29",
   "metadata": {},
   "source": [
    "Let's take a look at feature importance to see which features are most important"
   ]
  },
  {
   "cell_type": "code",
   "execution_count": 42,
   "id": "81deb558",
   "metadata": {},
   "outputs": [
    {
     "data": {
      "text/plain": [
       "[Text(0, 0, 'PAY_0'),\n",
       " Text(1, 0, 'AGE'),\n",
       " Text(2, 0, 'BILL_AMT1'),\n",
       " Text(3, 0, 'LIMIT_BAL'),\n",
       " Text(4, 0, 'BILL_AMT2'),\n",
       " Text(5, 0, 'BILL_AMT3'),\n",
       " Text(6, 0, 'BILL_AMT4'),\n",
       " Text(7, 0, 'PAY_AMT1'),\n",
       " Text(8, 0, 'BILL_AMT6'),\n",
       " Text(9, 0, 'BILL_AMT5'),\n",
       " Text(10, 0, 'PAY_AMT2'),\n",
       " Text(11, 0, 'PAY_AMT3'),\n",
       " Text(12, 0, 'PAY_AMT6'),\n",
       " Text(13, 0, 'PAY_AMT4'),\n",
       " Text(14, 0, 'PAY_AMT5'),\n",
       " Text(15, 0, 'PAY_2'),\n",
       " Text(16, 0, 'PAY_3'),\n",
       " Text(17, 0, 'PAY_5'),\n",
       " Text(18, 0, 'PAY_6'),\n",
       " Text(19, 0, 'PAY_4'),\n",
       " Text(20, 0, 'EDUCATION_2'),\n",
       " Text(21, 0, 'SEX_2'),\n",
       " Text(22, 0, 'SEX_1'),\n",
       " Text(23, 0, 'EDUCATION_1'),\n",
       " Text(24, 0, 'MARRIAGE_2'),\n",
       " Text(25, 0, 'MARRIAGE_1'),\n",
       " Text(26, 0, 'EDUCATION_3'),\n",
       " Text(27, 0, 'MARRIAGE_3'),\n",
       " Text(28, 0, 'EDUCATION_4')]"
      ]
     },
     "execution_count": 42,
     "metadata": {},
     "output_type": "execute_result"
    },
    {
     "data": {
      "image/png": "[encoded data removed]",
      "text/plain": [
       "<Figure size 720x360 with 1 Axes>"
      ]
     },
     "metadata": {
      "needs_background": "light"
     },
     "output_type": "display_data"
    }
   ],
   "source": [
    "tmp = pd.DataFrame({'predictor': X.columns, 'importance': rf.feature_importances_})\n",
    "tmp = tmp.sort_values(by='importance',ascending=False)\n",
    "plt.figure(figsize = (10,5))\n",
    "p = sns.barplot(x='predictor',y='importance',data=tmp)\n",
    "p.set_xticklabels(p.get_xticklabels(),rotation=90)   "
   ]
  },
  {
   "cell_type": "markdown",
   "id": "80bb7f94",
   "metadata": {},
   "source": [
    "Based on this plot, PAY_0, which is the repayment status in September 2005 is the most important, which makes sense since as time frame gets closer, previous behavior is more likely to affect future behaviors. Age and credit limit is also shown to be important, which match our exploration where older people might have larger likelihood to default, and people with lower credit limit have higher proportion of default."
   ]
  },
  {
   "cell_type": "markdown",
   "id": "f7aeb5ea",
   "metadata": {},
   "source": [
    "### Another model: xgboost\n",
    "Boosting is well known to reduce bias, we can build an xgboost model and see if it can improve performance."
   ]
  },
  {
   "cell_type": "code",
   "execution_count": 43,
   "id": "5718c76c",
   "metadata": {},
   "outputs": [],
   "source": [
    "xgb = XGBClassifier(n_estimators=300, nthread=-1,max_depth=2,\n",
    "       objective='binary:logistic',eval_metric=\"auc\", subsample=0.8)"
   ]
  },
  {
   "cell_type": "code",
   "execution_count": 44,
   "id": "2c79b4e1",
   "metadata": {},
   "outputs": [
    {
     "data": {
      "text/plain": [
       "XGBClassifier(base_score=None, booster=None, callbacks=None,\n",
       "              colsample_bylevel=None, colsample_bynode=None,\n",
       "              colsample_bytree=None, early_stopping_rounds=None,\n",
       "              enable_categorical=False, eval_metric='auc', feature_types=None,\n",
       "              gamma=None, gpu_id=None, grow_policy=None, importance_type=None,\n",
       "              interaction_constraints=None, learning_rate=None, max_bin=None,\n",
       "              max_cat_threshold=None, max_cat_to_onehot=None,\n",
       "              max_delta_step=None, max_depth=2, max_leaves=None,\n",
       "              min_child_weight=None, missing=nan, monotone_constraints=None,\n",
       "              n_estimators=300, n_jobs=None, nthread=-1, num_parallel_tree=None,\n",
       "              predictor=None, ...)"
      ]
     },
     "execution_count": 44,
     "metadata": {},
     "output_type": "execute_result"
    }
   ],
   "source": [
    "xgb.fit(X_train, y_train)"
   ]
  },
  {
   "cell_type": "code",
   "execution_count": 45,
   "id": "916f685e",
   "metadata": {},
   "outputs": [],
   "source": [
    "xgb_preds = xgb.predict(X_test)"
   ]
  },
  {
   "cell_type": "code",
   "execution_count": 46,
   "id": "252283a3",
   "metadata": {},
   "outputs": [
    {
     "data": {
      "text/plain": [
       "0.6551021365832146"
      ]
     },
     "execution_count": 46,
     "metadata": {},
     "output_type": "execute_result"
    }
   ],
   "source": [
    "roc_auc_score(y_test, xgb_preds)"
   ]
  },
  {
   "cell_type": "code",
   "execution_count": 47,
   "id": "abcbe49c",
   "metadata": {},
   "outputs": [
    {
     "data": {
      "text/plain": [
       "[Text(0, 0, 'PAY_0'),\n",
       " Text(1, 0, 'PAY_2'),\n",
       " Text(2, 0, 'PAY_3'),\n",
       " Text(3, 0, 'PAY_4'),\n",
       " Text(4, 0, 'PAY_5'),\n",
       " Text(5, 0, 'EDUCATION_4'),\n",
       " Text(6, 0, 'PAY_6'),\n",
       " Text(7, 0, 'MARRIAGE_2'),\n",
       " Text(8, 0, 'LIMIT_BAL'),\n",
       " Text(9, 0, 'MARRIAGE_1'),\n",
       " Text(10, 0, 'EDUCATION_1'),\n",
       " Text(11, 0, 'PAY_AMT1'),\n",
       " Text(12, 0, 'EDUCATION_2'),\n",
       " Text(13, 0, 'PAY_AMT2'),\n",
       " Text(14, 0, 'PAY_AMT3'),\n",
       " Text(15, 0, 'PAY_AMT4'),\n",
       " Text(16, 0, 'BILL_AMT1'),\n",
       " Text(17, 0, 'BILL_AMT3'),\n",
       " Text(18, 0, 'BILL_AMT2'),\n",
       " Text(19, 0, 'PAY_AMT5'),\n",
       " Text(20, 0, 'SEX_1'),\n",
       " Text(21, 0, 'PAY_AMT6'),\n",
       " Text(22, 0, 'BILL_AMT4'),\n",
       " Text(23, 0, 'BILL_AMT6'),\n",
       " Text(24, 0, 'BILL_AMT5'),\n",
       " Text(25, 0, 'AGE'),\n",
       " Text(26, 0, 'EDUCATION_3'),\n",
       " Text(27, 0, 'MARRIAGE_3'),\n",
       " Text(28, 0, 'SEX_2')]"
      ]
     },
     "execution_count": 47,
     "metadata": {},
     "output_type": "execute_result"
    },
    {
     "data": {
      "image/png": "[encoded data removed]",
      "text/plain": [
       "<Figure size 720x360 with 1 Axes>"
      ]
     },
     "metadata": {
      "needs_background": "light"
     },
     "output_type": "display_data"
    }
   ],
   "source": [
    "tmp = pd.DataFrame({'predictor': X.columns, 'importance': xgb.feature_importances_})\n",
    "tmp = tmp.sort_values(by='importance',ascending=False)\n",
    "plt.figure(figsize = (10,5))\n",
    "p = sns.barplot(x='predictor',y='importance',data=tmp)\n",
    "p.set_xticklabels(p.get_xticklabels(),rotation=90)   "
   ]
  },
  {
   "cell_type": "markdown",
   "id": "dad24bf7",
   "metadata": {},
   "source": [
    "Our initial version of xgb model increases AUC slightly, and feature importance shows more significant weight on PAY_0, which is aligned with random forest result that previous month behavior is very indicative of potential behavior next month. We don't have enough time to tune the xgb model, given many parameters and capabilities of xgb models, we can further perform grid search or k fold cross validation to choose the set of parameters that perform best on the testing set."
   ]
  },
  {
   "cell_type": "markdown",
   "id": "478323ef",
   "metadata": {},
   "source": [
    "## Conclusion and Next Steps\n",
    "1. Based on our data exploration and result of the probability model, we concluded that demographic variables of customers as well as payment behaviors are important factors that could potentially impacted likelihood of default payment next month.\n",
    "2. There are other potential features we could include that might enhance our accuracy of predictions, for example, purchase behaviors (last purchase amount, number of purchases per month, average purchase amount, etc), and other demographic information such as the household information the person is located in, income level, employment status  etc. If we could get more information, our predictions could potentially improve.\n",
    "3. We can also explore combinations of features, for example find a non linear way to combine credit limit, age and education might make the feature more correlated with our target variable than associate them separately.\n",
    "4. There can be several use cases for the predictions of the model:\\\n",
    "    a. The predicted likelihood can be incorporated into products like card recommendations for users, if there is a high default probability, the credit score of the user probably would not look good and thus has a lower probability of getting certain credit cards approved, therefore when recommending cards, we should give lower ranking for that  specific cards if the user is likely to default.\\\n",
    "    b. Another use case is toward customers. We can incorporate this information into their credit score reports and credit monitoring, sending alerts to users who are likely to default, and provide some suggestions to prevent further decrease of credit scores.\\\n",
    "    c. A third use case is that we could incorporate this likelihood with credit builders, when a customer tends to default, we can add features to increase number of users of the credit builders, which would increase visibility of our products also user profile of the product.\n"
   ]
  },
  {
   "cell_type": "code",
   "execution_count": null,
   "id": "b5a81316",
   "metadata": {},
   "outputs": [],
   "source": []
  }
 ],
 "metadata": {
  "kernelspec": {
   "display_name": "Python 3 (ipykernel)",
   "language": "python",
   "name": "python3"
  },
  "language_info": {
   "codemirror_mode": {
    "name": "ipython",
    "version": 3
   },
   "file_extension": ".py",
   "mimetype": "text/x-python",
   "name": "python",
   "nbconvert_exporter": "python",
   "pygments_lexer": "ipython3",
   "version": "3.8.10"
  }
 },
 "nbformat": 4,
 "nbformat_minor": 5
}
